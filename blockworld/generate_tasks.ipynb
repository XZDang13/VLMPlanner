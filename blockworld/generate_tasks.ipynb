{
 "cells": [
  {
   "cell_type": "code",
   "execution_count": 1,
   "metadata": {},
   "outputs": [],
   "source": [
    "import os\n",
    "from utils import create_task, convert_to_pddl_problem"
   ]
  },
  {
   "cell_type": "code",
   "execution_count": 91,
   "metadata": {},
   "outputs": [],
   "source": [
    "mod = \"test\"\n",
    "num_blocks = 8\n",
    "problem_path = f\"problems/{mod}/{num_blocks}\"\n",
    "\n",
    "if not os.path.exists(problem_path):\n",
    "    os.makedirs(problem_path)"
   ]
  },
  {
   "cell_type": "code",
   "execution_count": 92,
   "metadata": {},
   "outputs": [],
   "source": [
    "for i in range(25):\n",
    "    os.makedirs(f\"{problem_path}/problem_{mod}_{num_blocks}_scenario_{i}\")\n",
    "    init_state, goal_state = create_task(num_blocks)\n",
    "    problem = convert_to_pddl_problem(f\"problem_{mod}_{num_blocks}_scenario_{i}\", init_state, goal_state)\n",
    "    file = f\"{problem_path}/problem_{mod}_{num_blocks}_scenario_{i}/problem.pddl\"\n",
    "\n",
    "    with open(file, \"w\") as f:\n",
    "        f.write(problem)"
   ]
  },
  {
   "cell_type": "code",
   "execution_count": null,
   "metadata": {},
   "outputs": [],
   "source": []
  }
 ],
 "metadata": {
  "kernelspec": {
   "display_name": "vlm",
   "language": "python",
   "name": "python3"
  },
  "language_info": {
   "codemirror_mode": {
    "name": "ipython",
    "version": 3
   },
   "file_extension": ".py",
   "mimetype": "text/x-python",
   "name": "python",
   "nbconvert_exporter": "python",
   "pygments_lexer": "ipython3",
   "version": "3.11.11"
  }
 },
 "nbformat": 4,
 "nbformat_minor": 2
}
