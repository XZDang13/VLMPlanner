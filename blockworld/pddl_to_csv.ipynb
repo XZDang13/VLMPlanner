{
 "cells": [
  {
   "cell_type": "code",
   "execution_count": 1,
   "metadata": {},
   "outputs": [],
   "source": [
    "import csv"
   ]
  },
  {
   "cell_type": "code",
   "execution_count": 4,
   "metadata": {},
   "outputs": [],
   "source": [
    "domain_file = \"problems/domain.pddl\"\n",
    "problem_files = []\n",
    "for i in range(3, 7):\n",
    "    for j in range(0, 25):\n",
    "        problem_file = f\"problems/test/{i}/problem_test_{i}_scenario_{j}/problem.pddl\"\n",
    "        problem_files.append(problem_file)"
   ]
  },
  {
   "cell_type": "code",
   "execution_count": 5,
   "metadata": {},
   "outputs": [],
   "source": [
    "data = []\n",
    "\n",
    "for problem_file in problem_files:\n",
    "    with open(domain_file, \"r\") as f:\n",
    "        domain_content = f.read()\n",
    "\n",
    "    with open(problem_file, \"r\") as f:\n",
    "        problem_content = f.read()\n",
    "\n",
    "    item = {\n",
    "        \"domain_file\": domain_file,\n",
    "        \"problem_file\": problem_file,\n",
    "        \"domain_content\": domain_content,\n",
    "        \"problem_content\": problem_content\n",
    "    }\n",
    "\n",
    "    data.append(item)"
   ]
  },
  {
   "cell_type": "code",
   "execution_count": 6,
   "metadata": {},
   "outputs": [
    {
     "name": "stdout",
     "output_type": "stream",
     "text": [
      "CSV file saved to problems/test.csv\n"
     ]
    }
   ],
   "source": [
    "\n",
    "# File path\n",
    "filename = \"problems/test.csv\"\n",
    "\n",
    "# Write CSV\n",
    "with open(filename, mode=\"w\", newline='', encoding=\"utf-8\") as file:\n",
    "    writer = csv.DictWriter(file, fieldnames=[\"domain_file\", \"problem_file\", \"domain_content\", \"problem_content\"])\n",
    "    writer.writeheader()\n",
    "    for row in data:\n",
    "        writer.writerow(row)\n",
    "\n",
    "print(f\"CSV file saved to {filename}\")"
   ]
  },
  {
   "cell_type": "code",
   "execution_count": null,
   "metadata": {},
   "outputs": [],
   "source": []
  }
 ],
 "metadata": {
  "kernelspec": {
   "display_name": "vlm",
   "language": "python",
   "name": "python3"
  },
  "language_info": {
   "codemirror_mode": {
    "name": "ipython",
    "version": 3
   },
   "file_extension": ".py",
   "mimetype": "text/x-python",
   "name": "python",
   "nbconvert_exporter": "python",
   "pygments_lexer": "ipython3",
   "version": "3.11.11"
  }
 },
 "nbformat": 4,
 "nbformat_minor": 2
}
